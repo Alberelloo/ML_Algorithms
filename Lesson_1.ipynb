{
 "cells": [
  {
   "cell_type": "code",
   "execution_count": 6,
   "id": "4ad98392",
   "metadata": {},
   "outputs": [],
   "source": [
    "import numpy as np"
   ]
  },
  {
   "cell_type": "code",
   "execution_count": 32,
   "id": "38a940a7",
   "metadata": {},
   "outputs": [],
   "source": [
    "def calc_mae(y, y_pred):\n",
    "    err = np.mean(np.abs(y - y_pred))\n",
    "    return err\n",
    "\n",
    "def calc_mse(y, y_pred):\n",
    "    err = np.mean((y - y_pred)**2)\n",
    "    return err"
   ]
  },
  {
   "cell_type": "code",
   "execution_count": 33,
   "id": "21c33827",
   "metadata": {},
   "outputs": [],
   "source": [
    "X = np.array([[ 1,  1],\n",
    "              [ 1,  1],\n",
    "              [ 1,  2],\n",
    "              [ 1,  5],\n",
    "              [ 1,  3],\n",
    "              [ 1,  0],\n",
    "              [ 1,  5],\n",
    "              [ 1, 10],\n",
    "              [ 1,  1],\n",
    "              [ 1,  2]])"
   ]
  },
  {
   "cell_type": "code",
   "execution_count": 34,
   "id": "7a0beaf1",
   "metadata": {},
   "outputs": [],
   "source": [
    "y = np.array([45, 55, 50, 55, 60, 35, 75, 80, 50, 60])"
   ]
  },
  {
   "cell_type": "markdown",
   "id": "683de8e9",
   "metadata": {},
   "source": [
    "## Task 1. Подберите скорость обучения (eta) и количество итераций"
   ]
  },
  {
   "cell_type": "code",
   "execution_count": 58,
   "id": "00af5e7e",
   "metadata": {},
   "outputs": [
    {
     "name": "stdout",
     "output_type": "stream",
     "text": [
      "Number of objects = 10        \n",
      "Learning rate = 0.02        \n",
      "Initial weights = [1.  0.5] \n",
      "\n",
      "Iteration #0: W_new = [3.16 8.04], MSE = 3047.75\n",
      "Iteration #100: W_new = [37.30195981  5.21975431], MSE = 73.2992455\n",
      "Iteration #200: W_new = [43.36331425  4.12062114], MSE = 45.3705525\n"
     ]
    }
   ],
   "source": [
    "n = X.shape[0]\n",
    "\n",
    "eta = 0.02 \n",
    "n_iter = 250\n",
    "\n",
    "W = np.array([1, 0.5])\n",
    "print(f'Number of objects = {n} \\\n",
    "       \\nLearning rate = {eta} \\\n",
    "       \\nInitial weights = {W} \\n')\n",
    "\n",
    "for i in range(n_iter):\n",
    "    y_pred = np.dot(X, W)\n",
    "    err = calc_mse(y, y_pred)\n",
    "    for k in range(W.shape[0]):\n",
    "        W[k] -= eta * (1/n * 2 * X[:, k] @ (y_pred - y))\n",
    "    if i % 100 == 0:\n",
    "        eta /= 1.1\n",
    "        print(f'Iteration #{i}: W_new = {W}, MSE = {round(err, 7)}')"
   ]
  },
  {
   "cell_type": "markdown",
   "id": "35690974",
   "metadata": {},
   "source": [
    "## Task 2. В этом коде мы избавляемся от итераций по весам, но тут есть ошибка, исправьте ее"
   ]
  },
  {
   "cell_type": "code",
   "execution_count": 62,
   "id": "8753b616",
   "metadata": {},
   "outputs": [
    {
     "name": "stdout",
     "output_type": "stream",
     "text": [
      "Number of objects = 10        \n",
      "Learning rate = 0.01        \n",
      "Initial weights = [1.  0.5] \n",
      "\n",
      "Iteration #0: W_new = [2.08 4.27], MSE = 3047.75\n",
      "Iteration #10: W_new = [ 7.0011236 10.6169007], MSE = 738.65\n",
      "Iteration #20: W_new = [10.3486292  10.10603105], MSE = 622.03\n",
      "Iteration #30: W_new = [13.38789582  9.55618391], MSE = 525.24\n",
      "Iteration #40: W_new = [16.16088505  9.05336203], MSE = 444.66\n",
      "Iteration #50: W_new = [18.69110735  8.59454545], MSE = 377.58\n",
      "Iteration #60: W_new = [20.99981865  8.17589626], MSE = 321.72\n",
      "Iteration #70: W_new = [23.10641138  7.79389815], MSE = 275.22\n",
      "Iteration #80: W_new = [25.02858024  7.44534246], MSE = 236.5\n",
      "Iteration #90: W_new = [26.78247081  7.12730145], MSE = 204.27\n"
     ]
    }
   ],
   "source": [
    "n = X.shape[0]\n",
    "\n",
    "eta = 1e-2 \n",
    "n_iter = 100\n",
    "\n",
    "W = np.array([1, 0.5])\n",
    "print(f'Number of objects = {n} \\\n",
    "       \\nLearning rate = {eta} \\\n",
    "       \\nInitial weights = {W} \\n')\n",
    "\n",
    "for i in range(n_iter):\n",
    "    y_pred = np.dot(X, W)\n",
    "    err = calc_mse(y, y_pred)\n",
    "    # Было\n",
    "    #W -= eta * (1/n * 2 * np.dot(X, y_pred - y))\n",
    "    # Стало (вектор X надо транспонировать было)\n",
    "    W -= eta * (1/n * 2 * np.dot(X.T, y_pred - y))\n",
    "    if i % 10 == 0:\n",
    "        print(f'Iteration #{i}: W_new = {W}, MSE = {round(err,2)}')"
   ]
  },
  {
   "cell_type": "markdown",
   "id": "64398ff0",
   "metadata": {},
   "source": [
    "## Task 3. Вместо того, чтобы задавать количество итераций, задайте другое условие остановки алгоритма - когда веса перестают изменяться меньше определенного порога  𝜖"
   ]
  },
  {
   "cell_type": "code",
   "execution_count": 60,
   "id": "8d2dfa92",
   "metadata": {
    "scrolled": true
   },
   "outputs": [
    {
     "name": "stdout",
     "output_type": "stream",
     "text": [
      "Iteration 0: MSE - 43.968750005400665, weights: [45.06239389  3.81251924], learning_rate: 1.001\n",
      "Iteration 1: MSE - 43.968750005400665, weights: [45.06239389  3.81251924], learning_rate: 0.9425775\n",
      "Iteration 2: MSE - 43.968750005400665, weights: [45.06239389  3.81251924], learning_rate: 0.8875682\n",
      "Iteration 3: MSE - 43.968750005400665, weights: [45.06239389  3.81251924], learning_rate: 0.8357726\n",
      "Iteration 4: MSE - 43.968750005400665, weights: [45.06239389  3.81251924], learning_rate: 0.7870031\n",
      "Iteration 5: MSE - 43.968750005400665, weights: [45.06239389  3.81251924], learning_rate: 0.7410828\n",
      "Iteration 6: MSE - 43.968750005400665, weights: [45.06239389  3.81251924], learning_rate: 0.6978453\n",
      "Iteration 7: MSE - 43.968750005400665, weights: [45.06239389  3.81251924], learning_rate: 0.6571338\n",
      "Iteration 8: MSE - 43.968750005400665, weights: [45.06239389  3.81251924], learning_rate: 0.6188009\n",
      "Iteration 9: MSE - 43.968750005400665, weights: [45.06239389  3.81251924], learning_rate: 0.5827074\n",
      "Iteration 10: MSE - 43.968750005400665, weights: [45.06239389  3.81251924], learning_rate: 0.5487226\n",
      "Iteration 11: MSE - 43.968750005400665, weights: [45.06239389  3.81251924], learning_rate: 0.5167232\n",
      "Iteration 12: MSE - 43.968750005400665, weights: [45.06239389  3.81251924], learning_rate: 0.4865934\n",
      "Iteration 13: MSE - 43.968750005400665, weights: [45.06239389  3.81251924], learning_rate: 0.4582238\n",
      "Iteration 14: MSE - 43.968750005400665, weights: [45.06239389  3.81251924], learning_rate: 0.4315116\n",
      "Iteration 15: MSE - 43.968750005400665, weights: [45.06239389  3.81251924], learning_rate: 0.40636\n",
      "Iteration 16: MSE - 43.968750005400665, weights: [45.06239389  3.81251924], learning_rate: 0.3826779\n",
      "Iteration 17: MSE - 43.968750005400665, weights: [45.06239389  3.81251924], learning_rate: 0.3603793\n",
      "Iteration 18: MSE - 43.968750005400665, weights: [45.06239389  3.81251924], learning_rate: 0.3393835\n",
      "Iteration 19: MSE - 43.968750005400665, weights: [45.06239389  3.81251924], learning_rate: 0.3196142\n",
      "Iteration 20: MSE - 43.968750005400665, weights: [45.06239389  3.81251924], learning_rate: 0.301\n",
      "Iteration 21: MSE - 43.968750005400665, weights: [45.06239389  3.81251924], learning_rate: 0.2834732\n",
      "Iteration 22: MSE - 43.968750005400665, weights: [45.06239389  3.81251924], learning_rate: 0.2669704\n",
      "Iteration 23: MSE - 43.968750005400665, weights: [45.06239389  3.81251924], learning_rate: 0.2514318\n",
      "Iteration 24: MSE - 43.968750005400665, weights: [45.06239389  3.81251924], learning_rate: 0.2368009\n",
      "Iteration 25: MSE - 43.968750005400665, weights: [45.06239389  3.81251924], learning_rate: 0.2230248\n",
      "Iteration 26: MSE - 43.968750005400665, weights: [45.06239389  3.81251924], learning_rate: 0.2100536\n",
      "Iteration 27: MSE - 43.968750005400665, weights: [45.06239389  3.81251924], learning_rate: 0.1978402\n",
      "Iteration 28: MSE - 43.968750005400665, weights: [45.06239389  3.81251924], learning_rate: 0.1863403\n",
      "Iteration 29: MSE - 43.968750005400665, weights: [45.06239389  3.81251924], learning_rate: 0.1755122\n",
      "Iteration 30: MSE - 43.968750005400665, weights: [45.06239389  3.81251924], learning_rate: 0.1653168\n",
      "Iteration 31: MSE - 43.968750005400665, weights: [45.06239389  3.81251924], learning_rate: 0.155717\n",
      "Iteration 32: MSE - 43.968750005400665, weights: [45.06239389  3.81251924], learning_rate: 0.146678\n",
      "Iteration 33: MSE - 43.968750005400665, weights: [45.06239389  3.81251924], learning_rate: 0.1381671\n",
      "Iteration 34: MSE - 43.968750005400665, weights: [45.06239389  3.81251924], learning_rate: 0.1301535\n",
      "Iteration 35: MSE - 43.968750005400665, weights: [45.06239389  3.81251924], learning_rate: 0.122608\n",
      "Iteration 36: MSE - 43.968750005400665, weights: [45.06239389  3.81251924], learning_rate: 0.1155034\n",
      "Iteration 37: MSE - 43.968750005400665, weights: [45.06239389  3.81251924], learning_rate: 0.1088138\n",
      "Iteration 38: MSE - 43.968750005400665, weights: [45.06239389  3.81251924], learning_rate: 0.102515\n",
      "Iteration 39: MSE - 43.968750005400665, weights: [45.06239389  3.81251924], learning_rate: 0.0965843\n",
      "Iteration 40: MSE - 43.968750005400665, weights: [45.06239389  3.81251924], learning_rate: 0.091\n",
      "Iteration 41: MSE - 43.968750005400665, weights: [45.06239389  3.81251924], learning_rate: 0.085742\n",
      "Iteration 42: MSE - 43.968750005400665, weights: [45.06239389  3.81251924], learning_rate: 0.0807911\n",
      "Iteration 43: MSE - 43.968750005400665, weights: [45.06239389  3.81251924], learning_rate: 0.0761295\n",
      "Iteration 44: MSE - 43.968750005400665, weights: [45.06239389  3.81251924], learning_rate: 0.0717403\n",
      "Iteration 45: MSE - 43.968750005400665, weights: [45.06239389  3.81251924], learning_rate: 0.0676075\n",
      "Iteration 46: MSE - 43.968750005400665, weights: [45.06239389  3.81251924], learning_rate: 0.0637161\n",
      "Iteration 47: MSE - 43.968750005400665, weights: [45.06239389  3.81251924], learning_rate: 0.060052\n",
      "Iteration 48: MSE - 43.968750005400665, weights: [45.06239389  3.81251924], learning_rate: 0.0566021\n",
      "Iteration 49: MSE - 43.968750005400665, weights: [45.06239389  3.81251924], learning_rate: 0.0533537\n",
      "Iteration 50: MSE - 43.968750005400665, weights: [45.06239389  3.81251924], learning_rate: 0.050295\n",
      "Iteration 51: MSE - 43.968750005400665, weights: [45.06239389  3.81251924], learning_rate: 0.0474151\n",
      "Iteration 52: MSE - 43.968750005400665, weights: [45.06239389  3.81251924], learning_rate: 0.0447034\n",
      "Iteration 53: MSE - 43.968750005400665, weights: [45.06239389  3.81251924], learning_rate: 0.0421501\n",
      "Iteration 54: MSE - 43.968750005400665, weights: [45.06239389  3.81251924], learning_rate: 0.039746\n",
      "Iteration 55: MSE - 43.968750005400665, weights: [45.06239389  3.81251924], learning_rate: 0.0374824\n",
      "Iteration 56: MSE - 43.968750005400665, weights: [45.06239389  3.81251924], learning_rate: 0.035351\n",
      "Iteration 57: MSE - 43.968750005400665, weights: [45.06239389  3.81251924], learning_rate: 0.0333441\n",
      "Iteration 58: MSE - 43.968750005400665, weights: [45.06239389  3.81251924], learning_rate: 0.0314545\n",
      "Iteration 59: MSE - 43.968750005400665, weights: [45.06239389  3.81251924], learning_rate: 0.0296753\n",
      "Iteration 60: MSE - 43.968750005400665, weights: [45.06239389  3.81251924], learning_rate: 0.028\n",
      "Iteration 61: MSE - 43.968750005400665, weights: [45.06239389  3.81251924], learning_rate: 0.0264226\n",
      "Iteration 62: MSE - 43.968750005400665, weights: [45.06239389  3.81251924], learning_rate: 0.0249373\n",
      "Iteration 63: MSE - 43.968750005400665, weights: [45.06239389  3.81251924], learning_rate: 0.0235389\n",
      "Iteration 64: MSE - 43.968750005400665, weights: [45.06239389  3.81251924], learning_rate: 0.0222221\n",
      "Iteration 65: MSE - 43.968750005400665, weights: [45.06239389  3.81251924], learning_rate: 0.0209822\n",
      "Iteration 66: MSE - 43.968750005400665, weights: [45.06239389  3.81251924], learning_rate: 0.0198148\n",
      "Iteration 67: MSE - 43.968750005400665, weights: [45.06239389  3.81251924], learning_rate: 0.0187156\n",
      "Iteration 68: MSE - 43.968750005400665, weights: [45.06239389  3.81251924], learning_rate: 0.0176806\n",
      "Iteration 69: MSE - 43.968750005400665, weights: [45.06239389  3.81251924], learning_rate: 0.0167061\n",
      "Iteration 70: MSE - 43.968750005400665, weights: [45.06239389  3.81251924], learning_rate: 0.0157885\n",
      "Iteration 71: MSE - 43.968750005400665, weights: [45.06239389  3.81251924], learning_rate: 0.0149245\n",
      "Iteration 72: MSE - 43.968750005400665, weights: [45.06239389  3.81251924], learning_rate: 0.014111\n",
      "Iteration 73: MSE - 43.968750005400665, weights: [45.06239389  3.81251924], learning_rate: 0.013345\n",
      "Iteration 74: MSE - 43.968750005400665, weights: [45.06239389  3.81251924], learning_rate: 0.0126238\n",
      "Iteration 75: MSE - 43.968750005400665, weights: [45.06239389  3.81251924], learning_rate: 0.0119447\n",
      "Iteration 76: MSE - 43.968750005400665, weights: [45.06239389  3.81251924], learning_rate: 0.0113053\n",
      "Iteration 77: MSE - 43.968750005400665, weights: [45.06239389  3.81251924], learning_rate: 0.0107032\n",
      "Iteration 78: MSE - 43.968750005400665, weights: [45.06239389  3.81251924], learning_rate: 0.0101364\n",
      "MSE: 43.96875 \n",
      "Weights: [45.06239488  3.81251906] \n",
      "Total iterations: 79\n"
     ]
    }
   ],
   "source": [
    "num_objects = X.shape[0] # \n",
    "eta = 1e-3 # изначальный шаг обучения\n",
    "epsilon = 1e-6 # порог для разницы\n",
    "weight_dist = np.inf # изначальная разница в весах\n",
    "W = np.array([1, 0.5]) # начальные веса\n",
    "\n",
    "mse = [] # список для ошибок\n",
    "w_list = [W] # список для весов\n",
    "iter_num = 0 # счетчик итераций\n",
    "\n",
    "\n",
    "while weight_dist > epsilon:\n",
    "    # learning rate будет считаться по 'Step Decay', где отсечение в 30%, снижение скорости обучения каждые 20 эпох\n",
    "    learning_rate = eta + 0.3**(iter_num/ 20) \n",
    "    \n",
    "    # предсказываем целевое значение\n",
    "    y_pred = np.dot(X,W)\n",
    "    \n",
    "    # считаем градиент\n",
    "    Qd = 2 / num_objects * X.T @ (y_pred - y)\n",
    "    \n",
    "    # Считаем новый вектор весов и записываем в список\n",
    "    new_w = W - learning_rate * Qd\n",
    "    w_list.append(new_w)\n",
    "\n",
    "    # Считаем разницу по весам\n",
    "    weight_dist = np.linalg.norm(new_w - W, ord=2)\n",
    "    \n",
    "    # Считаем MSE\n",
    "    err = calc_mse(y, y_pred)\n",
    "    mse.append(err)\n",
    "    \n",
    "    print(f'Iteration {iter_num}: MSE - {error}, weights: {new_W}, learning_rate: {round(learning_rate, 7)}')\n",
    "    \n",
    "    iter_num += 1\n",
    "    W = new_W\n",
    "    \n",
    "print(f'MSE: {round(mse[-1], 7)} \\nWeights: {w_list[-1]} \\nTotal iterations: {iter_num}')"
   ]
  }
 ],
 "metadata": {
  "kernelspec": {
   "display_name": "Python 3 (ipykernel)",
   "language": "python",
   "name": "python3"
  },
  "language_info": {
   "codemirror_mode": {
    "name": "ipython",
    "version": 3
   },
   "file_extension": ".py",
   "mimetype": "text/x-python",
   "name": "python",
   "nbconvert_exporter": "python",
   "pygments_lexer": "ipython3",
   "version": "3.9.13"
  }
 },
 "nbformat": 4,
 "nbformat_minor": 5
}
