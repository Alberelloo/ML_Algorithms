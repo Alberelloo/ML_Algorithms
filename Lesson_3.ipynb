{
 "cells": [
  {
   "cell_type": "markdown",
   "id": "e8c04440",
   "metadata": {},
   "source": [
    " # <center> Lesson 3. Logistic regression</center> "
   ]
  },
  {
   "cell_type": "code",
   "execution_count": 62,
   "id": "9c711d0d",
   "metadata": {},
   "outputs": [],
   "source": [
    "import numpy as np\n",
    "import matplotlib.pyplot as plt\n",
    "import pandas as pd"
   ]
  },
  {
   "cell_type": "code",
   "execution_count": 34,
   "id": "3bd011c1",
   "metadata": {},
   "outputs": [],
   "source": [
    "X = np.array([ [   1,    1,  500,    1],\n",
    "               [   1,    1,  700,    1],\n",
    "               [   1,    2,  750,    2],\n",
    "               [   1,    5,  600,    1],\n",
    "               [   1,    3, 1450,    2],\n",
    "               [   1,    0,  800,    1],\n",
    "               [   1,    5, 1500,    3],\n",
    "               [   1,   10, 2000,    3],\n",
    "               [   1,    1,  450,    1],\n",
    "               [   1,    2, 1000,    2]], dtype=np.float64)\n",
    "\n",
    "y = np.array([0, 0, 1, 0, 1, 0, 1, 0, 1, 1], dtype=np.float64)"
   ]
  },
  {
   "cell_type": "markdown",
   "id": "65b67637",
   "metadata": {},
   "source": [
    "## Task 1. Измените функцию calc_logloss так, чтобы нули по возможности не попадали в np.log."
   ]
  },
  {
   "cell_type": "markdown",
   "id": "f916c65d",
   "metadata": {},
   "source": [
    "Добавим в аргумент логарифма малое значение, чтобы в случае, когда $y_p \\in \\{ 0,1 \\}$, логарифмы хорошо считались"
   ]
  },
  {
   "cell_type": "code",
   "execution_count": 2,
   "id": "cea4c0b9",
   "metadata": {},
   "outputs": [],
   "source": [
    "def calc_logloss(y, y_pred):\n",
    "    err = - np.mean(y * np.log(y_pred + 1e-15) + (1.0 - y) * np.log(1.0 - y_pred + 1e-15))\n",
    "    return err"
   ]
  },
  {
   "cell_type": "markdown",
   "id": "92098a0d",
   "metadata": {},
   "source": [
    "## Task 2. Подберите аргументы функции eval_model для логистической регрессии таким образом, чтобы log loss был минимальным."
   ]
  },
  {
   "cell_type": "code",
   "execution_count": 95,
   "id": "5b8d8221",
   "metadata": {},
   "outputs": [],
   "source": [
    "def eval_model(X, y, iterations):\n",
    "    np.random.seed(42)\n",
    "    W = np.random.randn(X.shape[1])\n",
    "    n = X.shape[0]\n",
    "    errors =[]\n",
    "    \n",
    "    for eta in [1e-4,1e-3,1e-2,1e-4,2e-3,2e-2]:\n",
    "        error_eta = []\n",
    "        for i in range(iterations):\n",
    "            z = np.dot(X, W)\n",
    "            y_pred = 1 / (1 + np.exp(-z))\n",
    "            err = calc_logloss(y, y_pred)\n",
    "                \n",
    "            dQ = 1/n * X.T @ (y_pred - y)\n",
    "            W -= eta * dQ\n",
    "        error_eta.append(err)\n",
    "        errors.append(error_eta)\n",
    "    return errors, W"
   ]
  },
  {
   "cell_type": "code",
   "execution_count": 96,
   "id": "1b6c609d",
   "metadata": {
    "scrolled": true
   },
   "outputs": [
    {
     "data": {
      "text/plain": [
       "[[1.010139164862049],\n",
       " [0.5266929942065267],\n",
       " [0.48210013277905056],\n",
       " [0.4818824954269882],\n",
       " [0.4782889778897646],\n",
       " [0.45201114382587565]]"
      ]
     },
     "execution_count": 96,
     "metadata": {},
     "output_type": "execute_result"
    }
   ],
   "source": [
    "er, W = eval_model(X, y, iterations = 700)\n",
    "er"
   ]
  },
  {
   "cell_type": "markdown",
   "id": "718de613",
   "metadata": {},
   "source": [
    "Берем $\\eta = 0.02$"
   ]
  },
  {
   "cell_type": "markdown",
   "id": "04029c6a",
   "metadata": {},
   "source": [
    "## Task 3. Создайте функцию calc_pred_proba, возвращающую предсказанную вероятность класса 1 (на вход подаются W, который уже посчитан функцией eval_model и X, на выходе - массив y_pred_proba)."
   ]
  },
  {
   "cell_type": "code",
   "execution_count": 101,
   "id": "b0d9bc58",
   "metadata": {},
   "outputs": [],
   "source": [
    "def calc_pred_proba(W, X):\n",
    " \n",
    "    y_predicted = np.zeros(X.shape[0])\n",
    "    y_pred_proba = np.squeeze(1 / (1 + np.exp(-np.dot(X, W))))\n",
    "    return y_pred_proba     "
   ]
  },
  {
   "cell_type": "code",
   "execution_count": 102,
   "id": "aa2fd772",
   "metadata": {},
   "outputs": [
    {
     "data": {
      "text/plain": [
       "array([0.36397081, 0.46166112, 0.71900805, 0.0239606 , 0.82017739,\n",
       "       0.7081455 , 0.85482526, 0.19706667, 0.34089705, 0.80925685])"
      ]
     },
     "execution_count": 102,
     "metadata": {},
     "output_type": "execute_result"
    }
   ],
   "source": [
    "y_pred_proba = calc_pred_proba(W, X) \n",
    "y_pred_proba"
   ]
  },
  {
   "cell_type": "markdown",
   "id": "866a8efd",
   "metadata": {},
   "source": [
    "## Task 4. Создайте функцию calc_pred, возвращающую предсказанный класс (на вход подаются W, который уже посчитан функцией eval_model и X, на выходе - массив y_pred)."
   ]
  },
  {
   "cell_type": "code",
   "execution_count": 103,
   "id": "2e06bd8d",
   "metadata": {},
   "outputs": [],
   "source": [
    "def calc_pred(W, X):\n",
    "    \n",
    "    y_predicted = np.zeros(X.shape[0])\n",
    "    y_pred_proba = np.squeeze(1 / (1 + np.exp(-np.dot(X, W))))\n",
    "\n",
    "    # За порог отнесения к тому или иному классу примем вероятность 0.5\n",
    "    for i in range(y_pred_proba.shape[0]):\n",
    "        if (y_pred_proba[i] > 0.5): \n",
    "            y_predicted[i] = 1\n",
    "        elif (y_pred_proba[i] <= 0.5):\n",
    "            y_predicted[i] = 0\n",
    "\n",
    "    return y_predicted"
   ]
  },
  {
   "cell_type": "code",
   "execution_count": 104,
   "id": "d68cb459",
   "metadata": {
    "scrolled": true
   },
   "outputs": [
    {
     "data": {
      "text/plain": [
       "array([0., 0., 1., 0., 1., 1., 1., 0., 0., 1.])"
      ]
     },
     "execution_count": 104,
     "metadata": {},
     "output_type": "execute_result"
    }
   ],
   "source": [
    "y_predicted = calc_pred(W, X) \n",
    "y_predicted"
   ]
  },
  {
   "cell_type": "code",
   "execution_count": 152,
   "id": "6297ca95",
   "metadata": {
    "scrolled": true
   },
   "outputs": [
    {
     "data": {
      "text/plain": [
       "array([0., 0., 1., 0., 1., 0., 1., 0., 1., 1.])"
      ]
     },
     "execution_count": 152,
     "metadata": {},
     "output_type": "execute_result"
    }
   ],
   "source": [
    "y"
   ]
  },
  {
   "cell_type": "markdown",
   "id": "7f718468",
   "metadata": {},
   "source": [
    "## Task 5. *Реализуйте функции для подсчета Accuracy, матрицы ошибок, точности и полноты, а также F1 score."
   ]
  },
  {
   "cell_type": "code",
   "execution_count": 114,
   "id": "9a75c580",
   "metadata": {},
   "outputs": [],
   "source": [
    "def accuracy(y_pred,y):\n",
    "    true_pred = 0\n",
    "    for i in range(len(y)):\n",
    "        if y_pred[i] == y[i]:\n",
    "            true_pred += 1\n",
    "    return true_pred/len(y)"
   ]
  },
  {
   "cell_type": "code",
   "execution_count": 182,
   "id": "82aa6f26",
   "metadata": {},
   "outputs": [],
   "source": [
    "def precision(y_pred,y):\n",
    "    res = {'true_pos': 0, 'false_pos': 0, \"true_neg\": 0, 'false_neg': 0}\n",
    "\n",
    "    for i in range(y.shape[0]):\n",
    "        if (y_pred[i] == y[i]) and y[i] == 1:\n",
    "            res['true_pos'] += 1\n",
    "        elif (y_pred[i] == y[i]) and y[i] == 0:\n",
    "            res['true_neg'] += 0\n",
    "        elif (y_pred[i] != y[i]) and y[i] == 0:\n",
    "            res['false_pos'] += 0\n",
    "        else:\n",
    "            res['false_neg'] += 1\n",
    "    #return res, res['true_pos']/(res['true_pos'] + res['false_pos'])      \n",
    "    return res"
   ]
  },
  {
   "cell_type": "code",
   "execution_count": 173,
   "id": "3f0f6057",
   "metadata": {},
   "outputs": [],
   "source": [
    "def recall(y_pred,y):\n",
    "    res = {'true_pos': 0, 'false_pos': 0, \"true_neg\": 0, 'false_neg': 0}\n",
    "\n",
    "    for i in range(len(y)):\n",
    "        if (y_pred[i] == y[i]) and y[i] == 1:\n",
    "            res['true_pos'] += 1\n",
    "        elif (y_pred[i] == y[i]) and y[i] == 0:\n",
    "            res['true_neg'] += 0\n",
    "        elif (y_pred[i] != y[i]) and y[i] == 0:\n",
    "            res['false_pos'] += 0\n",
    "        elif (y_pred[i] != y[i]) and y[i] == 1:\n",
    "            res['false_neg'] += 1\n",
    "    return res['true_pos']/(res['true_pos'] + res['true_neg'])"
   ]
  },
  {
   "cell_type": "markdown",
   "id": "96e32833",
   "metadata": {},
   "source": [
    "### Confusion matrix"
   ]
  },
  {
   "cell_type": "code",
   "execution_count": 202,
   "id": "29af2d9e",
   "metadata": {},
   "outputs": [],
   "source": [
    "def conf_matrix(y_pred,y):\n",
    "    res = {'true_pos': 0, 'false_pos': 0, \"true_neg\": 0, 'false_neg': 0}\n",
    "\n",
    "    for i in range(len(y)):\n",
    "        if (y_pred[i] == y[i]) and y[i] == 1:\n",
    "            res['true_pos'] += 1\n",
    "        elif (y_pred[i] == y[i]) and y[i] == 0:\n",
    "            res['true_neg'] += 0\n",
    "        elif (y_pred[i] != y[i]) and y[i] == 0:\n",
    "            res['false_pos'] += 0\n",
    "        elif (y_pred[i] != y[i]) and y[i] == 1:\n",
    "            res['false_neg'] += 1\n",
    "    print (f\"|          |y = 1|y = 0|\\n y_pred = 1|{res['true_pos']}    |{res['false_pos']}    |\\n y_pred = 0|{res['false_neg']}    |{res['true_neg']}    |\")\n"
   ]
  },
  {
   "cell_type": "markdown",
   "id": "e7be2964",
   "metadata": {},
   "source": [
    "### F1-score"
   ]
  },
  {
   "cell_type": "code",
   "execution_count": 116,
   "id": "8351471d",
   "metadata": {},
   "outputs": [],
   "source": [
    "def f1_score(precision,recall):\n",
    "    return (2 * precision * recall) / (precision + recall)"
   ]
  },
  {
   "cell_type": "markdown",
   "id": "753bfa03",
   "metadata": {},
   "source": [
    "## Task 6. Могла ли модель переобучиться? Почему?"
   ]
  },
  {
   "cell_type": "markdown",
   "id": "60b6d51c",
   "metadata": {},
   "source": [
    "Да,  логистическая регрессия всё та же линейная модель, а значит\n",
    "1. для неё важно качество входящих данных (предварительно следует данные стандартизировать/нормализовать);\n",
    "2. может переобучаться, если не ограничивать норму вектора весов (регуляризация)."
   ]
  }
 ],
 "metadata": {
  "kernelspec": {
   "display_name": "Python 3 (ipykernel)",
   "language": "python",
   "name": "python3"
  },
  "language_info": {
   "codemirror_mode": {
    "name": "ipython",
    "version": 3
   },
   "file_extension": ".py",
   "mimetype": "text/x-python",
   "name": "python",
   "nbconvert_exporter": "python",
   "pygments_lexer": "ipython3",
   "version": "3.9.13"
  }
 },
 "nbformat": 4,
 "nbformat_minor": 5
}
